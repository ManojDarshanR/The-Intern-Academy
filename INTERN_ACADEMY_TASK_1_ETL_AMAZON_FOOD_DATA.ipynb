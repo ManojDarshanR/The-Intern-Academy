{
  "nbformat": 4,
  "nbformat_minor": 0,
  "metadata": {
    "colab": {
      "name": "INTERN-ACADEMY-TASK 1-ETL-AMAZON FOOD DATA.ipynb",
      "provenance": [],
      "collapsed_sections": []
    },
    "kernelspec": {
      "name": "python3",
      "display_name": "Python 3"
    },
    "language_info": {
      "name": "python"
    }
  },
  "cells": [
    {
      "cell_type": "markdown",
      "metadata": {
        "id": "vPOxRJG1U-sE"
      },
      "source": [
        "# **TASK** **1** - EXTRACT TRANSFORM LOAD (AMAZON DATA)\n",
        "\n",
        "\\\n",
        "**AUTHORS:**\n",
        "\n",
        "*R N SNEHA PRIYA*\n",
        "\n",
        "*RAKSHA SRINIVASAN*\n",
        "\n",
        "*MANOJ DARSHAN*\n",
        "\n",
        "\\\\\n",
        "\n",
        "#**Problem Statement:**\n",
        "\n",
        "**Sales management has gained importance to meet increasing competition and the need for improved\n",
        "methods of distribution to reduce cost and to increase profits. Sales management today is the most\n",
        "important function in a commercial and business enterprise.**\n",
        "\n",
        "\\\\\n",
        "# **GOAL:**\n",
        "\n",
        "**Extract-Transform-Load some Amazon dataset and find Sales-trend -> month wise , year\n",
        "wise , yearly month wise. Find key metrics and factors and show the meaningful relationships\n",
        "between attributes.**\n",
        "\n"
      ]
    },
    {
      "cell_type": "markdown",
      "metadata": {
        "id": "9ADPt_86YGa0"
      },
      "source": [
        "# Importing the Libraries"
      ]
    },
    {
      "cell_type": "code",
      "metadata": {
        "id": "E8nk7Q0KYJcp"
      },
      "source": [
        "import pandas as pd\n",
        "import numpy as np\n",
        "import matplotlib.pyplot as plt\n",
        "import seaborn as sb"
      ],
      "execution_count": null,
      "outputs": []
    },
    {
      "cell_type": "markdown",
      "metadata": {
        "id": "hPw6kRw5ZSsl"
      },
      "source": [
        "# Loading the Data"
      ]
    },
    {
      "cell_type": "code",
      "metadata": {
        "colab": {
          "base_uri": "https://localhost:8080/",
          "height": 528
        },
        "id": "Fg-vpeQJZWrC",
        "outputId": "ab262fb0-ba6f-400d-9340-2a50e7fef123"
      },
      "source": [
        "df=pd.read_csv('/content/salesdata.csv')\n",
        "df"
      ],
      "execution_count": null,
      "outputs": [
        {
          "output_type": "execute_result",
          "data": {
            "text/html": [
              "<div>\n",
              "<style scoped>\n",
              "    .dataframe tbody tr th:only-of-type {\n",
              "        vertical-align: middle;\n",
              "    }\n",
              "\n",
              "    .dataframe tbody tr th {\n",
              "        vertical-align: top;\n",
              "    }\n",
              "\n",
              "    .dataframe thead th {\n",
              "        text-align: right;\n",
              "    }\n",
              "</style>\n",
              "<table border=\"1\" class=\"dataframe\">\n",
              "  <thead>\n",
              "    <tr style=\"text-align: right;\">\n",
              "      <th></th>\n",
              "      <th>CustKey</th>\n",
              "      <th>DateKey</th>\n",
              "      <th>Discount Amount</th>\n",
              "      <th>Invoice Date</th>\n",
              "      <th>Invoice Number</th>\n",
              "      <th>Item Class</th>\n",
              "      <th>Item Number</th>\n",
              "      <th>Item</th>\n",
              "      <th>Line Number</th>\n",
              "      <th>List Price</th>\n",
              "      <th>Order Number</th>\n",
              "      <th>Promised Delivery Date</th>\n",
              "      <th>Sales Amount</th>\n",
              "      <th>Sales Amount Based on List Price</th>\n",
              "      <th>Sales Cost Amount</th>\n",
              "      <th>Sales Margin Amount</th>\n",
              "      <th>Sales Price</th>\n",
              "      <th>Sales Quantity</th>\n",
              "      <th>Sales Rep</th>\n",
              "      <th>U/M</th>\n",
              "    </tr>\n",
              "  </thead>\n",
              "  <tbody>\n",
              "    <tr>\n",
              "      <th>0</th>\n",
              "      <td>10000481</td>\n",
              "      <td>4/30/2017</td>\n",
              "      <td>-237.91</td>\n",
              "      <td>4/30/2017</td>\n",
              "      <td>100012</td>\n",
              "      <td>NaN</td>\n",
              "      <td>NaN</td>\n",
              "      <td>Urban Large Eggs</td>\n",
              "      <td>2000</td>\n",
              "      <td>0.00</td>\n",
              "      <td>200015</td>\n",
              "      <td>4/30/2017</td>\n",
              "      <td>237.91</td>\n",
              "      <td>0.00</td>\n",
              "      <td>0.00</td>\n",
              "      <td>237.91</td>\n",
              "      <td>237.910000</td>\n",
              "      <td>1</td>\n",
              "      <td>184</td>\n",
              "      <td>EA</td>\n",
              "    </tr>\n",
              "    <tr>\n",
              "      <th>1</th>\n",
              "      <td>10002220</td>\n",
              "      <td>7/14/2017</td>\n",
              "      <td>368.79</td>\n",
              "      <td>7/14/2017</td>\n",
              "      <td>100233</td>\n",
              "      <td>P01</td>\n",
              "      <td>20910</td>\n",
              "      <td>Moms Sliced Turkey</td>\n",
              "      <td>1000</td>\n",
              "      <td>824.96</td>\n",
              "      <td>200245</td>\n",
              "      <td>7/14/2017</td>\n",
              "      <td>456.17</td>\n",
              "      <td>824.96</td>\n",
              "      <td>0.00</td>\n",
              "      <td>456.17</td>\n",
              "      <td>456.170000</td>\n",
              "      <td>1</td>\n",
              "      <td>127</td>\n",
              "      <td>EA</td>\n",
              "    </tr>\n",
              "    <tr>\n",
              "      <th>2</th>\n",
              "      <td>10002220</td>\n",
              "      <td>10/17/2017</td>\n",
              "      <td>109.73</td>\n",
              "      <td>10/17/2017</td>\n",
              "      <td>116165</td>\n",
              "      <td>P01</td>\n",
              "      <td>38076</td>\n",
              "      <td>Cutting Edge Foot-Long Hot Dogs</td>\n",
              "      <td>1000</td>\n",
              "      <td>548.66</td>\n",
              "      <td>213157</td>\n",
              "      <td>10/16/2017</td>\n",
              "      <td>438.93</td>\n",
              "      <td>548.66</td>\n",
              "      <td>0.00</td>\n",
              "      <td>438.93</td>\n",
              "      <td>438.930000</td>\n",
              "      <td>1</td>\n",
              "      <td>127</td>\n",
              "      <td>EA</td>\n",
              "    </tr>\n",
              "    <tr>\n",
              "      <th>3</th>\n",
              "      <td>10002489</td>\n",
              "      <td>6/3/2017</td>\n",
              "      <td>-211.75</td>\n",
              "      <td>6/3/2017</td>\n",
              "      <td>100096</td>\n",
              "      <td>NaN</td>\n",
              "      <td>NaN</td>\n",
              "      <td>Kiwi Lox</td>\n",
              "      <td>1000</td>\n",
              "      <td>0.00</td>\n",
              "      <td>200107</td>\n",
              "      <td>6/3/2017</td>\n",
              "      <td>211.75</td>\n",
              "      <td>0.00</td>\n",
              "      <td>0.00</td>\n",
              "      <td>211.75</td>\n",
              "      <td>211.750000</td>\n",
              "      <td>1</td>\n",
              "      <td>160</td>\n",
              "      <td>EA</td>\n",
              "    </tr>\n",
              "    <tr>\n",
              "      <th>4</th>\n",
              "      <td>10004516</td>\n",
              "      <td>5/27/2017</td>\n",
              "      <td>96627.94</td>\n",
              "      <td>5/27/2017</td>\n",
              "      <td>103341</td>\n",
              "      <td>P01</td>\n",
              "      <td>60776</td>\n",
              "      <td>High Top Sweet Onion</td>\n",
              "      <td>1000</td>\n",
              "      <td>408.52</td>\n",
              "      <td>203785</td>\n",
              "      <td>5/28/2017</td>\n",
              "      <td>89248.66</td>\n",
              "      <td>185876.60</td>\n",
              "      <td>0.00</td>\n",
              "      <td>89248.66</td>\n",
              "      <td>196.150901</td>\n",
              "      <td>455</td>\n",
              "      <td>124</td>\n",
              "      <td>SE</td>\n",
              "    </tr>\n",
              "    <tr>\n",
              "      <th>...</th>\n",
              "      <td>...</td>\n",
              "      <td>...</td>\n",
              "      <td>...</td>\n",
              "      <td>...</td>\n",
              "      <td>...</td>\n",
              "      <td>...</td>\n",
              "      <td>...</td>\n",
              "      <td>...</td>\n",
              "      <td>...</td>\n",
              "      <td>...</td>\n",
              "      <td>...</td>\n",
              "      <td>...</td>\n",
              "      <td>...</td>\n",
              "      <td>...</td>\n",
              "      <td>...</td>\n",
              "      <td>...</td>\n",
              "      <td>...</td>\n",
              "      <td>...</td>\n",
              "      <td>...</td>\n",
              "      <td>...</td>\n",
              "    </tr>\n",
              "    <tr>\n",
              "      <th>65277</th>\n",
              "      <td>10017638</td>\n",
              "      <td>3/21/2018</td>\n",
              "      <td>505.78</td>\n",
              "      <td>3/21/2018</td>\n",
              "      <td>226497</td>\n",
              "      <td>P01</td>\n",
              "      <td>13447</td>\n",
              "      <td>High Top Oranges</td>\n",
              "      <td>8000</td>\n",
              "      <td>119.52</td>\n",
              "      <td>320895</td>\n",
              "      <td>3/21/2018</td>\n",
              "      <td>569.90</td>\n",
              "      <td>1075.68</td>\n",
              "      <td>239.95</td>\n",
              "      <td>329.95</td>\n",
              "      <td>63.322222</td>\n",
              "      <td>9</td>\n",
              "      <td>180</td>\n",
              "      <td>EA</td>\n",
              "    </tr>\n",
              "    <tr>\n",
              "      <th>65278</th>\n",
              "      <td>10017638</td>\n",
              "      <td>3/21/2018</td>\n",
              "      <td>410.75</td>\n",
              "      <td>3/21/2018</td>\n",
              "      <td>226497</td>\n",
              "      <td>P01</td>\n",
              "      <td>25906</td>\n",
              "      <td>Landslide White Sugar</td>\n",
              "      <td>38000</td>\n",
              "      <td>436.78</td>\n",
              "      <td>320895</td>\n",
              "      <td>3/21/2018</td>\n",
              "      <td>462.81</td>\n",
              "      <td>873.56</td>\n",
              "      <td>423.55</td>\n",
              "      <td>39.26</td>\n",
              "      <td>231.405000</td>\n",
              "      <td>2</td>\n",
              "      <td>180</td>\n",
              "      <td>EA</td>\n",
              "    </tr>\n",
              "    <tr>\n",
              "      <th>65279</th>\n",
              "      <td>10017638</td>\n",
              "      <td>3/21/2018</td>\n",
              "      <td>876.16</td>\n",
              "      <td>3/21/2018</td>\n",
              "      <td>226497</td>\n",
              "      <td>P01</td>\n",
              "      <td>61856</td>\n",
              "      <td>Moms Potato Salad</td>\n",
              "      <td>227001</td>\n",
              "      <td>232.92</td>\n",
              "      <td>320895</td>\n",
              "      <td>3/21/2018</td>\n",
              "      <td>987.20</td>\n",
              "      <td>1863.36</td>\n",
              "      <td>574.00</td>\n",
              "      <td>413.20</td>\n",
              "      <td>123.400000</td>\n",
              "      <td>8</td>\n",
              "      <td>180</td>\n",
              "      <td>EA</td>\n",
              "    </tr>\n",
              "    <tr>\n",
              "      <th>65280</th>\n",
              "      <td>10017638</td>\n",
              "      <td>3/21/2018</td>\n",
              "      <td>24226.77</td>\n",
              "      <td>3/21/2018</td>\n",
              "      <td>226498</td>\n",
              "      <td>P01</td>\n",
              "      <td>17801</td>\n",
              "      <td>Better Fancy Canned Sardines</td>\n",
              "      <td>1000</td>\n",
              "      <td>1431.23</td>\n",
              "      <td>320907</td>\n",
              "      <td>3/21/2018</td>\n",
              "      <td>27297.51</td>\n",
              "      <td>51524.28</td>\n",
              "      <td>16188.90</td>\n",
              "      <td>11108.61</td>\n",
              "      <td>758.264167</td>\n",
              "      <td>36</td>\n",
              "      <td>180</td>\n",
              "      <td>EA</td>\n",
              "    </tr>\n",
              "    <tr>\n",
              "      <th>65281</th>\n",
              "      <td>10017638</td>\n",
              "      <td>3/21/2018</td>\n",
              "      <td>24479.26</td>\n",
              "      <td>3/21/2018</td>\n",
              "      <td>226498</td>\n",
              "      <td>P01</td>\n",
              "      <td>27550</td>\n",
              "      <td>Imagine Popsicles</td>\n",
              "      <td>4000</td>\n",
              "      <td>1084.61</td>\n",
              "      <td>320907</td>\n",
              "      <td>3/21/2018</td>\n",
              "      <td>27582.02</td>\n",
              "      <td>52061.28</td>\n",
              "      <td>14234.22</td>\n",
              "      <td>13347.80</td>\n",
              "      <td>574.625417</td>\n",
              "      <td>48</td>\n",
              "      <td>180</td>\n",
              "      <td>EA</td>\n",
              "    </tr>\n",
              "  </tbody>\n",
              "</table>\n",
              "<p>65282 rows × 20 columns</p>\n",
              "</div>"
            ],
            "text/plain": [
              "        CustKey     DateKey  Discount Amount  ... Sales Quantity  Sales Rep U/M\n",
              "0      10000481   4/30/2017          -237.91  ...              1        184  EA\n",
              "1      10002220   7/14/2017           368.79  ...              1        127  EA\n",
              "2      10002220  10/17/2017           109.73  ...              1        127  EA\n",
              "3      10002489    6/3/2017          -211.75  ...              1        160  EA\n",
              "4      10004516   5/27/2017         96627.94  ...            455        124  SE\n",
              "...         ...         ...              ...  ...            ...        ...  ..\n",
              "65277  10017638   3/21/2018           505.78  ...              9        180  EA\n",
              "65278  10017638   3/21/2018           410.75  ...              2        180  EA\n",
              "65279  10017638   3/21/2018           876.16  ...              8        180  EA\n",
              "65280  10017638   3/21/2018         24226.77  ...             36        180  EA\n",
              "65281  10017638   3/21/2018         24479.26  ...             48        180  EA\n",
              "\n",
              "[65282 rows x 20 columns]"
            ]
          },
          "metadata": {},
          "execution_count": 2
        }
      ]
    },
    {
      "cell_type": "code",
      "metadata": {
        "colab": {
          "base_uri": "https://localhost:8080/",
          "height": 276
        },
        "id": "zX3wj2aLZzlS",
        "outputId": "144ae77b-3639-4ffd-a86f-9cf6c83d6d94"
      },
      "source": [
        "df.head()"
      ],
      "execution_count": null,
      "outputs": [
        {
          "output_type": "execute_result",
          "data": {
            "text/html": [
              "<div>\n",
              "<style scoped>\n",
              "    .dataframe tbody tr th:only-of-type {\n",
              "        vertical-align: middle;\n",
              "    }\n",
              "\n",
              "    .dataframe tbody tr th {\n",
              "        vertical-align: top;\n",
              "    }\n",
              "\n",
              "    .dataframe thead th {\n",
              "        text-align: right;\n",
              "    }\n",
              "</style>\n",
              "<table border=\"1\" class=\"dataframe\">\n",
              "  <thead>\n",
              "    <tr style=\"text-align: right;\">\n",
              "      <th></th>\n",
              "      <th>CustKey</th>\n",
              "      <th>DateKey</th>\n",
              "      <th>Discount Amount</th>\n",
              "      <th>Invoice Date</th>\n",
              "      <th>Invoice Number</th>\n",
              "      <th>Item Class</th>\n",
              "      <th>Item Number</th>\n",
              "      <th>Item</th>\n",
              "      <th>Line Number</th>\n",
              "      <th>List Price</th>\n",
              "      <th>Order Number</th>\n",
              "      <th>Promised Delivery Date</th>\n",
              "      <th>Sales Amount</th>\n",
              "      <th>Sales Amount Based on List Price</th>\n",
              "      <th>Sales Cost Amount</th>\n",
              "      <th>Sales Margin Amount</th>\n",
              "      <th>Sales Price</th>\n",
              "      <th>Sales Quantity</th>\n",
              "      <th>Sales Rep</th>\n",
              "      <th>U/M</th>\n",
              "    </tr>\n",
              "  </thead>\n",
              "  <tbody>\n",
              "    <tr>\n",
              "      <th>0</th>\n",
              "      <td>10000481</td>\n",
              "      <td>4/30/2017</td>\n",
              "      <td>-237.91</td>\n",
              "      <td>4/30/2017</td>\n",
              "      <td>100012</td>\n",
              "      <td>NaN</td>\n",
              "      <td>NaN</td>\n",
              "      <td>Urban Large Eggs</td>\n",
              "      <td>2000</td>\n",
              "      <td>0.00</td>\n",
              "      <td>200015</td>\n",
              "      <td>4/30/2017</td>\n",
              "      <td>237.91</td>\n",
              "      <td>0.00</td>\n",
              "      <td>0.0</td>\n",
              "      <td>237.91</td>\n",
              "      <td>237.910000</td>\n",
              "      <td>1</td>\n",
              "      <td>184</td>\n",
              "      <td>EA</td>\n",
              "    </tr>\n",
              "    <tr>\n",
              "      <th>1</th>\n",
              "      <td>10002220</td>\n",
              "      <td>7/14/2017</td>\n",
              "      <td>368.79</td>\n",
              "      <td>7/14/2017</td>\n",
              "      <td>100233</td>\n",
              "      <td>P01</td>\n",
              "      <td>20910</td>\n",
              "      <td>Moms Sliced Turkey</td>\n",
              "      <td>1000</td>\n",
              "      <td>824.96</td>\n",
              "      <td>200245</td>\n",
              "      <td>7/14/2017</td>\n",
              "      <td>456.17</td>\n",
              "      <td>824.96</td>\n",
              "      <td>0.0</td>\n",
              "      <td>456.17</td>\n",
              "      <td>456.170000</td>\n",
              "      <td>1</td>\n",
              "      <td>127</td>\n",
              "      <td>EA</td>\n",
              "    </tr>\n",
              "    <tr>\n",
              "      <th>2</th>\n",
              "      <td>10002220</td>\n",
              "      <td>10/17/2017</td>\n",
              "      <td>109.73</td>\n",
              "      <td>10/17/2017</td>\n",
              "      <td>116165</td>\n",
              "      <td>P01</td>\n",
              "      <td>38076</td>\n",
              "      <td>Cutting Edge Foot-Long Hot Dogs</td>\n",
              "      <td>1000</td>\n",
              "      <td>548.66</td>\n",
              "      <td>213157</td>\n",
              "      <td>10/16/2017</td>\n",
              "      <td>438.93</td>\n",
              "      <td>548.66</td>\n",
              "      <td>0.0</td>\n",
              "      <td>438.93</td>\n",
              "      <td>438.930000</td>\n",
              "      <td>1</td>\n",
              "      <td>127</td>\n",
              "      <td>EA</td>\n",
              "    </tr>\n",
              "    <tr>\n",
              "      <th>3</th>\n",
              "      <td>10002489</td>\n",
              "      <td>6/3/2017</td>\n",
              "      <td>-211.75</td>\n",
              "      <td>6/3/2017</td>\n",
              "      <td>100096</td>\n",
              "      <td>NaN</td>\n",
              "      <td>NaN</td>\n",
              "      <td>Kiwi Lox</td>\n",
              "      <td>1000</td>\n",
              "      <td>0.00</td>\n",
              "      <td>200107</td>\n",
              "      <td>6/3/2017</td>\n",
              "      <td>211.75</td>\n",
              "      <td>0.00</td>\n",
              "      <td>0.0</td>\n",
              "      <td>211.75</td>\n",
              "      <td>211.750000</td>\n",
              "      <td>1</td>\n",
              "      <td>160</td>\n",
              "      <td>EA</td>\n",
              "    </tr>\n",
              "    <tr>\n",
              "      <th>4</th>\n",
              "      <td>10004516</td>\n",
              "      <td>5/27/2017</td>\n",
              "      <td>96627.94</td>\n",
              "      <td>5/27/2017</td>\n",
              "      <td>103341</td>\n",
              "      <td>P01</td>\n",
              "      <td>60776</td>\n",
              "      <td>High Top Sweet Onion</td>\n",
              "      <td>1000</td>\n",
              "      <td>408.52</td>\n",
              "      <td>203785</td>\n",
              "      <td>5/28/2017</td>\n",
              "      <td>89248.66</td>\n",
              "      <td>185876.60</td>\n",
              "      <td>0.0</td>\n",
              "      <td>89248.66</td>\n",
              "      <td>196.150901</td>\n",
              "      <td>455</td>\n",
              "      <td>124</td>\n",
              "      <td>SE</td>\n",
              "    </tr>\n",
              "  </tbody>\n",
              "</table>\n",
              "</div>"
            ],
            "text/plain": [
              "    CustKey     DateKey  Discount Amount  ... Sales Quantity  Sales Rep U/M\n",
              "0  10000481   4/30/2017          -237.91  ...              1        184  EA\n",
              "1  10002220   7/14/2017           368.79  ...              1        127  EA\n",
              "2  10002220  10/17/2017           109.73  ...              1        127  EA\n",
              "3  10002489    6/3/2017          -211.75  ...              1        160  EA\n",
              "4  10004516   5/27/2017         96627.94  ...            455        124  SE\n",
              "\n",
              "[5 rows x 20 columns]"
            ]
          },
          "metadata": {},
          "execution_count": 3
        }
      ]
    },
    {
      "cell_type": "code",
      "metadata": {
        "colab": {
          "base_uri": "https://localhost:8080/",
          "height": 276
        },
        "id": "xUo46BD2Z2Kb",
        "outputId": "917424b5-394d-4117-8203-614f612ff28a"
      },
      "source": [
        "df.tail()"
      ],
      "execution_count": null,
      "outputs": [
        {
          "output_type": "execute_result",
          "data": {
            "text/html": [
              "<div>\n",
              "<style scoped>\n",
              "    .dataframe tbody tr th:only-of-type {\n",
              "        vertical-align: middle;\n",
              "    }\n",
              "\n",
              "    .dataframe tbody tr th {\n",
              "        vertical-align: top;\n",
              "    }\n",
              "\n",
              "    .dataframe thead th {\n",
              "        text-align: right;\n",
              "    }\n",
              "</style>\n",
              "<table border=\"1\" class=\"dataframe\">\n",
              "  <thead>\n",
              "    <tr style=\"text-align: right;\">\n",
              "      <th></th>\n",
              "      <th>CustKey</th>\n",
              "      <th>DateKey</th>\n",
              "      <th>Discount Amount</th>\n",
              "      <th>Invoice Date</th>\n",
              "      <th>Invoice Number</th>\n",
              "      <th>Item Class</th>\n",
              "      <th>Item Number</th>\n",
              "      <th>Item</th>\n",
              "      <th>Line Number</th>\n",
              "      <th>List Price</th>\n",
              "      <th>Order Number</th>\n",
              "      <th>Promised Delivery Date</th>\n",
              "      <th>Sales Amount</th>\n",
              "      <th>Sales Amount Based on List Price</th>\n",
              "      <th>Sales Cost Amount</th>\n",
              "      <th>Sales Margin Amount</th>\n",
              "      <th>Sales Price</th>\n",
              "      <th>Sales Quantity</th>\n",
              "      <th>Sales Rep</th>\n",
              "      <th>U/M</th>\n",
              "    </tr>\n",
              "  </thead>\n",
              "  <tbody>\n",
              "    <tr>\n",
              "      <th>65277</th>\n",
              "      <td>10017638</td>\n",
              "      <td>3/21/2018</td>\n",
              "      <td>505.78</td>\n",
              "      <td>3/21/2018</td>\n",
              "      <td>226497</td>\n",
              "      <td>P01</td>\n",
              "      <td>13447</td>\n",
              "      <td>High Top Oranges</td>\n",
              "      <td>8000</td>\n",
              "      <td>119.52</td>\n",
              "      <td>320895</td>\n",
              "      <td>3/21/2018</td>\n",
              "      <td>569.90</td>\n",
              "      <td>1075.68</td>\n",
              "      <td>239.95</td>\n",
              "      <td>329.95</td>\n",
              "      <td>63.322222</td>\n",
              "      <td>9</td>\n",
              "      <td>180</td>\n",
              "      <td>EA</td>\n",
              "    </tr>\n",
              "    <tr>\n",
              "      <th>65278</th>\n",
              "      <td>10017638</td>\n",
              "      <td>3/21/2018</td>\n",
              "      <td>410.75</td>\n",
              "      <td>3/21/2018</td>\n",
              "      <td>226497</td>\n",
              "      <td>P01</td>\n",
              "      <td>25906</td>\n",
              "      <td>Landslide White Sugar</td>\n",
              "      <td>38000</td>\n",
              "      <td>436.78</td>\n",
              "      <td>320895</td>\n",
              "      <td>3/21/2018</td>\n",
              "      <td>462.81</td>\n",
              "      <td>873.56</td>\n",
              "      <td>423.55</td>\n",
              "      <td>39.26</td>\n",
              "      <td>231.405000</td>\n",
              "      <td>2</td>\n",
              "      <td>180</td>\n",
              "      <td>EA</td>\n",
              "    </tr>\n",
              "    <tr>\n",
              "      <th>65279</th>\n",
              "      <td>10017638</td>\n",
              "      <td>3/21/2018</td>\n",
              "      <td>876.16</td>\n",
              "      <td>3/21/2018</td>\n",
              "      <td>226497</td>\n",
              "      <td>P01</td>\n",
              "      <td>61856</td>\n",
              "      <td>Moms Potato Salad</td>\n",
              "      <td>227001</td>\n",
              "      <td>232.92</td>\n",
              "      <td>320895</td>\n",
              "      <td>3/21/2018</td>\n",
              "      <td>987.20</td>\n",
              "      <td>1863.36</td>\n",
              "      <td>574.00</td>\n",
              "      <td>413.20</td>\n",
              "      <td>123.400000</td>\n",
              "      <td>8</td>\n",
              "      <td>180</td>\n",
              "      <td>EA</td>\n",
              "    </tr>\n",
              "    <tr>\n",
              "      <th>65280</th>\n",
              "      <td>10017638</td>\n",
              "      <td>3/21/2018</td>\n",
              "      <td>24226.77</td>\n",
              "      <td>3/21/2018</td>\n",
              "      <td>226498</td>\n",
              "      <td>P01</td>\n",
              "      <td>17801</td>\n",
              "      <td>Better Fancy Canned Sardines</td>\n",
              "      <td>1000</td>\n",
              "      <td>1431.23</td>\n",
              "      <td>320907</td>\n",
              "      <td>3/21/2018</td>\n",
              "      <td>27297.51</td>\n",
              "      <td>51524.28</td>\n",
              "      <td>16188.90</td>\n",
              "      <td>11108.61</td>\n",
              "      <td>758.264167</td>\n",
              "      <td>36</td>\n",
              "      <td>180</td>\n",
              "      <td>EA</td>\n",
              "    </tr>\n",
              "    <tr>\n",
              "      <th>65281</th>\n",
              "      <td>10017638</td>\n",
              "      <td>3/21/2018</td>\n",
              "      <td>24479.26</td>\n",
              "      <td>3/21/2018</td>\n",
              "      <td>226498</td>\n",
              "      <td>P01</td>\n",
              "      <td>27550</td>\n",
              "      <td>Imagine Popsicles</td>\n",
              "      <td>4000</td>\n",
              "      <td>1084.61</td>\n",
              "      <td>320907</td>\n",
              "      <td>3/21/2018</td>\n",
              "      <td>27582.02</td>\n",
              "      <td>52061.28</td>\n",
              "      <td>14234.22</td>\n",
              "      <td>13347.80</td>\n",
              "      <td>574.625417</td>\n",
              "      <td>48</td>\n",
              "      <td>180</td>\n",
              "      <td>EA</td>\n",
              "    </tr>\n",
              "  </tbody>\n",
              "</table>\n",
              "</div>"
            ],
            "text/plain": [
              "        CustKey    DateKey  Discount Amount  ... Sales Quantity  Sales Rep U/M\n",
              "65277  10017638  3/21/2018           505.78  ...              9        180  EA\n",
              "65278  10017638  3/21/2018           410.75  ...              2        180  EA\n",
              "65279  10017638  3/21/2018           876.16  ...              8        180  EA\n",
              "65280  10017638  3/21/2018         24226.77  ...             36        180  EA\n",
              "65281  10017638  3/21/2018         24479.26  ...             48        180  EA\n",
              "\n",
              "[5 rows x 20 columns]"
            ]
          },
          "metadata": {},
          "execution_count": 4
        }
      ]
    },
    {
      "cell_type": "code",
      "metadata": {
        "colab": {
          "base_uri": "https://localhost:8080/",
          "height": 300
        },
        "id": "JOerGnU9Z3uv",
        "outputId": "3bd5a6db-27b8-4d3b-8829-28ecbdf9e78c"
      },
      "source": [
        "df.describe()"
      ],
      "execution_count": null,
      "outputs": [
        {
          "output_type": "execute_result",
          "data": {
            "text/html": [
              "<div>\n",
              "<style scoped>\n",
              "    .dataframe tbody tr th:only-of-type {\n",
              "        vertical-align: middle;\n",
              "    }\n",
              "\n",
              "    .dataframe tbody tr th {\n",
              "        vertical-align: top;\n",
              "    }\n",
              "\n",
              "    .dataframe thead th {\n",
              "        text-align: right;\n",
              "    }\n",
              "</style>\n",
              "<table border=\"1\" class=\"dataframe\">\n",
              "  <thead>\n",
              "    <tr style=\"text-align: right;\">\n",
              "      <th></th>\n",
              "      <th>CustKey</th>\n",
              "      <th>Discount Amount</th>\n",
              "      <th>Invoice Number</th>\n",
              "      <th>Line Number</th>\n",
              "      <th>List Price</th>\n",
              "      <th>Order Number</th>\n",
              "      <th>Sales Amount</th>\n",
              "      <th>Sales Amount Based on List Price</th>\n",
              "      <th>Sales Cost Amount</th>\n",
              "      <th>Sales Margin Amount</th>\n",
              "      <th>Sales Price</th>\n",
              "      <th>Sales Quantity</th>\n",
              "      <th>Sales Rep</th>\n",
              "    </tr>\n",
              "  </thead>\n",
              "  <tbody>\n",
              "    <tr>\n",
              "      <th>count</th>\n",
              "      <td>6.528200e+04</td>\n",
              "      <td>65280.000000</td>\n",
              "      <td>65282.000000</td>\n",
              "      <td>65282.000000</td>\n",
              "      <td>65282.000000</td>\n",
              "      <td>65282.000000</td>\n",
              "      <td>65282.000000</td>\n",
              "      <td>65282.000000</td>\n",
              "      <td>65282.000000</td>\n",
              "      <td>65282.000000</td>\n",
              "      <td>65281.000000</td>\n",
              "      <td>65282.000000</td>\n",
              "      <td>65282.000000</td>\n",
              "    </tr>\n",
              "    <tr>\n",
              "      <th>mean</th>\n",
              "      <td>1.001770e+07</td>\n",
              "      <td>1855.574835</td>\n",
              "      <td>216223.662020</td>\n",
              "      <td>23713.849790</td>\n",
              "      <td>514.693380</td>\n",
              "      <td>180583.064352</td>\n",
              "      <td>2852.038373</td>\n",
              "      <td>4707.473613</td>\n",
              "      <td>1660.979228</td>\n",
              "      <td>1191.059145</td>\n",
              "      <td>283.615913</td>\n",
              "      <td>45.084311</td>\n",
              "      <td>137.422398</td>\n",
              "    </tr>\n",
              "    <tr>\n",
              "      <th>std</th>\n",
              "      <td>7.176148e+03</td>\n",
              "      <td>9037.140888</td>\n",
              "      <td>94992.281866</td>\n",
              "      <td>32664.024053</td>\n",
              "      <td>449.189182</td>\n",
              "      <td>67593.871116</td>\n",
              "      <td>15164.342107</td>\n",
              "      <td>20696.443785</td>\n",
              "      <td>9556.485250</td>\n",
              "      <td>5860.787502</td>\n",
              "      <td>252.876719</td>\n",
              "      <td>429.661793</td>\n",
              "      <td>26.643936</td>\n",
              "    </tr>\n",
              "    <tr>\n",
              "      <th>min</th>\n",
              "      <td>1.000045e+07</td>\n",
              "      <td>-255820.800000</td>\n",
              "      <td>100012.000000</td>\n",
              "      <td>1000.000000</td>\n",
              "      <td>0.000000</td>\n",
              "      <td>100838.000000</td>\n",
              "      <td>200.010000</td>\n",
              "      <td>0.000000</td>\n",
              "      <td>0.000000</td>\n",
              "      <td>-3932.930000</td>\n",
              "      <td>-5000.000000</td>\n",
              "      <td>-1.000000</td>\n",
              "      <td>103.000000</td>\n",
              "    </tr>\n",
              "    <tr>\n",
              "      <th>25%</th>\n",
              "      <td>1.001272e+07</td>\n",
              "      <td>246.037500</td>\n",
              "      <td>117931.000000</td>\n",
              "      <td>3000.000000</td>\n",
              "      <td>181.560000</td>\n",
              "      <td>115321.000000</td>\n",
              "      <td>308.387500</td>\n",
              "      <td>561.040000</td>\n",
              "      <td>167.790000</td>\n",
              "      <td>129.950000</td>\n",
              "      <td>100.070000</td>\n",
              "      <td>2.000000</td>\n",
              "      <td>113.000000</td>\n",
              "    </tr>\n",
              "    <tr>\n",
              "      <th>50%</th>\n",
              "      <td>1.001966e+07</td>\n",
              "      <td>441.760000</td>\n",
              "      <td>222869.500000</td>\n",
              "      <td>12000.000000</td>\n",
              "      <td>325.190000</td>\n",
              "      <td>203702.000000</td>\n",
              "      <td>553.940000</td>\n",
              "      <td>998.160000</td>\n",
              "      <td>304.500000</td>\n",
              "      <td>246.490000</td>\n",
              "      <td>183.757500</td>\n",
              "      <td>3.000000</td>\n",
              "      <td>134.000000</td>\n",
              "    </tr>\n",
              "    <tr>\n",
              "      <th>75%</th>\n",
              "      <td>1.002351e+07</td>\n",
              "      <td>999.760000</td>\n",
              "      <td>314318.750000</td>\n",
              "      <td>32000.000000</td>\n",
              "      <td>803.860000</td>\n",
              "      <td>218576.000000</td>\n",
              "      <td>1280.042500</td>\n",
              "      <td>2315.040000</td>\n",
              "      <td>687.320000</td>\n",
              "      <td>579.530000</td>\n",
              "      <td>448.220000</td>\n",
              "      <td>8.000000</td>\n",
              "      <td>160.000000</td>\n",
              "    </tr>\n",
              "    <tr>\n",
              "      <th>max</th>\n",
              "      <td>1.002758e+07</td>\n",
              "      <td>343532.660000</td>\n",
              "      <td>332842.000000</td>\n",
              "      <td>344000.000000</td>\n",
              "      <td>2760.700000</td>\n",
              "      <td>321532.000000</td>\n",
              "      <td>555376.000000</td>\n",
              "      <td>632610.160000</td>\n",
              "      <td>366576.000000</td>\n",
              "      <td>188800.000000</td>\n",
              "      <td>6035.000000</td>\n",
              "      <td>16000.000000</td>\n",
              "      <td>185.000000</td>\n",
              "    </tr>\n",
              "  </tbody>\n",
              "</table>\n",
              "</div>"
            ],
            "text/plain": [
              "            CustKey  Discount Amount  ...  Sales Quantity     Sales Rep\n",
              "count  6.528200e+04     65280.000000  ...    65282.000000  65282.000000\n",
              "mean   1.001770e+07      1855.574835  ...       45.084311    137.422398\n",
              "std    7.176148e+03      9037.140888  ...      429.661793     26.643936\n",
              "min    1.000045e+07   -255820.800000  ...       -1.000000    103.000000\n",
              "25%    1.001272e+07       246.037500  ...        2.000000    113.000000\n",
              "50%    1.001966e+07       441.760000  ...        3.000000    134.000000\n",
              "75%    1.002351e+07       999.760000  ...        8.000000    160.000000\n",
              "max    1.002758e+07    343532.660000  ...    16000.000000    185.000000\n",
              "\n",
              "[8 rows x 13 columns]"
            ]
          },
          "metadata": {},
          "execution_count": 5
        }
      ]
    },
    {
      "cell_type": "code",
      "metadata": {
        "colab": {
          "base_uri": "https://localhost:8080/"
        },
        "id": "XBjQJGv9Z5ot",
        "outputId": "9fe67f33-72a7-4a12-ae33-a7ecce544a45"
      },
      "source": [
        "df.shape"
      ],
      "execution_count": null,
      "outputs": [
        {
          "output_type": "execute_result",
          "data": {
            "text/plain": [
              "(65282, 20)"
            ]
          },
          "metadata": {},
          "execution_count": 7
        }
      ]
    },
    {
      "cell_type": "markdown",
      "metadata": {
        "id": "PFpYhyXubBGp"
      },
      "source": [
        "# Data Cleaning"
      ]
    },
    {
      "cell_type": "code",
      "metadata": {
        "colab": {
          "base_uri": "https://localhost:8080/"
        },
        "id": "4iEkI9flbG2K",
        "outputId": "423d53a3-f453-4091-d6c6-308f2fde8063"
      },
      "source": [
        "df.isnull().sum()"
      ],
      "execution_count": null,
      "outputs": [
        {
          "output_type": "execute_result",
          "data": {
            "text/plain": [
              "CustKey                                0\n",
              "DateKey                                0\n",
              "Discount Amount                        2\n",
              "Invoice Date                           0\n",
              "Invoice Number                         0\n",
              "Item Class                          8289\n",
              "Item Number                           41\n",
              "Item                                   0\n",
              "Line Number                            0\n",
              "List Price                             0\n",
              "Order Number                           0\n",
              "Promised Delivery Date                 0\n",
              "Sales Amount                           0\n",
              "Sales Amount Based on List Price       0\n",
              "Sales Cost Amount                      0\n",
              "Sales Margin Amount                    0\n",
              "Sales Price                            1\n",
              "Sales Quantity                         0\n",
              "Sales Rep                              0\n",
              "U/M                                    0\n",
              "dtype: int64"
            ]
          },
          "metadata": {},
          "execution_count": 8
        }
      ]
    },
    {
      "cell_type": "code",
      "metadata": {
        "colab": {
          "base_uri": "https://localhost:8080/"
        },
        "id": "LvYxjhenbJBH",
        "outputId": "9be913df-5d22-41a1-85e8-01ac2613de72"
      },
      "source": [
        "df.dropna(inplace=True)\n",
        "df.isnull().sum()"
      ],
      "execution_count": null,
      "outputs": [
        {
          "output_type": "execute_result",
          "data": {
            "text/plain": [
              "CustKey                             0\n",
              "DateKey                             0\n",
              "Discount Amount                     0\n",
              "Invoice Date                        0\n",
              "Invoice Number                      0\n",
              "Item Class                          0\n",
              "Item Number                         0\n",
              "Item                                0\n",
              "Line Number                         0\n",
              "List Price                          0\n",
              "Order Number                        0\n",
              "Promised Delivery Date              0\n",
              "Sales Amount                        0\n",
              "Sales Amount Based on List Price    0\n",
              "Sales Cost Amount                   0\n",
              "Sales Margin Amount                 0\n",
              "Sales Price                         0\n",
              "Sales Quantity                      0\n",
              "Sales Rep                           0\n",
              "U/M                                 0\n",
              "dtype: int64"
            ]
          },
          "metadata": {},
          "execution_count": 9
        }
      ]
    },
    {
      "cell_type": "code",
      "metadata": {
        "colab": {
          "base_uri": "https://localhost:8080/"
        },
        "id": "446PneYfbNCm",
        "outputId": "0508df1d-2a58-4215-db83-160ea34feecb"
      },
      "source": [
        "df.columns"
      ],
      "execution_count": null,
      "outputs": [
        {
          "output_type": "execute_result",
          "data": {
            "text/plain": [
              "Index(['CustKey', 'DateKey', 'Discount Amount', 'Invoice Date',\n",
              "       'Invoice Number', 'Item Class', 'Item Number', 'Item', 'Line Number',\n",
              "       'List Price', 'Order Number', 'Promised Delivery Date', 'Sales Amount',\n",
              "       'Sales Amount Based on List Price', 'Sales Cost Amount',\n",
              "       'Sales Margin Amount', 'Sales Price', 'Sales Quantity', 'Sales Rep',\n",
              "       'U/M'],\n",
              "      dtype='object')"
            ]
          },
          "metadata": {},
          "execution_count": 10
        }
      ]
    },
    {
      "cell_type": "markdown",
      "metadata": {
        "id": "3TWjPbQfbT24"
      },
      "source": [
        "# Exploratory Data Analysis"
      ]
    },
    {
      "cell_type": "code",
      "metadata": {
        "colab": {
          "base_uri": "https://localhost:8080/",
          "height": 303
        },
        "id": "ae103fxZbZfQ",
        "outputId": "89235d95-2710-43cd-a70d-227aef9ffb3a"
      },
      "source": [
        "df.plot(x='Sales Price',y='Sales Quantity',style='.',color='c')\n",
        "plt.title('Sales Price vs Sales Quantity',fontdict={'family':'DejaVu Sans','size':25})\n",
        "plt.xlabel('Sales Price')\n",
        "plt.ylabel('Sales Quantity')\n",
        "plt.show()"
      ],
      "execution_count": null,
      "outputs": [
        {
          "output_type": "display_data",
          "data": {
            "image/png": "[encoded data removed]",
            "text/plain": [
              "<Figure size 432x288 with 1 Axes>"
            ]
          },
          "metadata": {
            "needs_background": "light"
          }
        }
      ]
    },
    {
      "cell_type": "code",
      "metadata": {
        "colab": {
          "base_uri": "https://localhost:8080/",
          "height": 303
        },
        "id": "EBvgnagnbojj",
        "outputId": "b104f596-1420-4acd-9ac9-6d79a07fde17"
      },
      "source": [
        "df.plot(x='Sales Amount',y='Sales Rep',style='.',color='r')\n",
        "plt.title('Sales Amount vs Sales Rep',fontdict={'family':'DejaVu Sans','size':25})\n",
        "plt.xlabel('Sales Amount')\n",
        "plt.ylabel('Sales Rep')\n",
        "plt.show()"
      ],
      "execution_count": null,
      "outputs": [
        {
          "output_type": "display_data",
          "data": {
            "image/png": "[encoded data removed]",
            "text/plain": [
              "<Figure size 432x288 with 1 Axes>"
            ]
          },
          "metadata": {
            "needs_background": "light"
          }
        }
      ]
    },
    {
      "cell_type": "code",
      "metadata": {
        "id": "5lNKx4PEcMNo"
      },
      "source": [
        "df.drop('Item Class',axis=1,inplace=True)"
      ],
      "execution_count": null,
      "outputs": []
    },
    {
      "cell_type": "code",
      "metadata": {
        "colab": {
          "base_uri": "https://localhost:8080/"
        },
        "id": "kTEHedIucWdN",
        "outputId": "3604ac74-da82-41b6-dc7c-db5ee94d66f9"
      },
      "source": [
        "df['DateKey'].value_counts()"
      ],
      "execution_count": null,
      "outputs": [
        {
          "output_type": "execute_result",
          "data": {
            "text/plain": [
              "6/23/2017    436\n",
              "7/5/2019     429\n",
              "6/27/2017    286\n",
              "1/11/2017    285\n",
              "7/9/2019     281\n",
              "            ... \n",
              "8/9/2019      21\n",
              "7/3/2019       6\n",
              "6/21/2017      6\n",
              "6/7/2017       3\n",
              "6/19/2019      3\n",
              "Name: DateKey, Length: 558, dtype: int64"
            ]
          },
          "metadata": {},
          "execution_count": 19
        }
      ]
    },
    {
      "cell_type": "code",
      "metadata": {
        "colab": {
          "base_uri": "https://localhost:8080/",
          "height": 714
        },
        "id": "kZIZ02epcYgr",
        "outputId": "256ca26a-055e-4c96-c7e2-ce8c3b86009c"
      },
      "source": [
        "df['DateKey'] = pd.to_datetime(df['DateKey'])\n",
        "datekey=df['DateKey'].value_counts().head()\n",
        "plt.figure(figsize=(10,12))\n",
        "sb.barplot(x=datekey,y=datekey.index,palette='copper')\n",
        "plt.show()"
      ],
      "execution_count": null,
      "outputs": [
        {
          "output_type": "display_data",
          "data": {
            "image/png": "[encoded data removed]",
            "text/plain": [
              "<Figure size 720x864 with 1 Axes>"
            ]
          },
          "metadata": {
            "needs_background": "light"
          }
        }
      ]
    },
    {
      "cell_type": "code",
      "metadata": {
        "colab": {
          "base_uri": "https://localhost:8080/",
          "height": 714
        },
        "id": "zOytsAqycczG",
        "outputId": "75d12aa7-fded-4f89-e82a-1eb40110e7d6"
      },
      "source": [
        "item=df['Item'].value_counts().head(6)\n",
        "plt.figure(figsize=(12,12))\n",
        "sb.barplot(y=item.index,x=item,palette='muted')\n",
        "sb.set_theme(style=\"whitegrid\")\n",
        "plt.show()"
      ],
      "execution_count": null,
      "outputs": [
        {
          "output_type": "display_data",
          "data": {
            "image/png": "[encoded data removed]",
            "text/plain": [
              "<Figure size 864x864 with 1 Axes>"
            ]
          },
          "metadata": {
            "needs_background": "light"
          }
        }
      ]
    },
    {
      "cell_type": "code",
      "metadata": {
        "colab": {
          "base_uri": "https://localhost:8080/",
          "height": 648
        },
        "id": "sWWUFW8Yczgp",
        "outputId": "08ebb760-9f56-43e7-e563-597c27c84940"
      },
      "source": [
        "sales=df['Sales Quantity'].value_counts().head()\n",
        "plt.figure(figsize=(10,11))\n",
        "sb.barplot(x=sales.index,y=sales,palette='cubehelix')\n",
        "plt.show()"
      ],
      "execution_count": null,
      "outputs": [
        {
          "output_type": "display_data",
          "data": {
            "image/png": "[encoded data removed]",
            "text/plain": [
              "<Figure size 720x792 with 1 Axes>"
            ]
          },
          "metadata": {}
        }
      ]
    },
    {
      "cell_type": "code",
      "metadata": {
        "colab": {
          "base_uri": "https://localhost:8080/",
          "height": 648
        },
        "id": "UoaMeNFkc4Nb",
        "outputId": "aefbc21f-79f7-4b45-d0cc-0f3bfb7de2a3"
      },
      "source": [
        "salesr=df['Sales Rep'].value_counts().tail()\n",
        "plt.figure(figsize=(10,11))\n",
        "sb.barplot(x=salesr.index,y=salesr,palette='muted')\n",
        "plt.show()"
      ],
      "execution_count": null,
      "outputs": [
        {
          "output_type": "display_data",
          "data": {
            "image/png": "[encoded data removed]",
            "text/plain": [
              "<Figure size 720x792 with 1 Axes>"
            ]
          },
          "metadata": {}
        }
      ]
    },
    {
      "cell_type": "code",
      "metadata": {
        "colab": {
          "base_uri": "https://localhost:8080/",
          "height": 648
        },
        "id": "FFSqec4mc77r",
        "outputId": "217f514c-3784-403b-b283-0e54ff1aa1ed"
      },
      "source": [
        "salesm=df['Sales Margin Amount'].value_counts().tail()\n",
        "plt.figure(figsize=(10,11))\n",
        "sb.barplot(x=salesm.index,y=salesm,palette='bright')\n",
        "plt.show()"
      ],
      "execution_count": null,
      "outputs": [
        {
          "output_type": "display_data",
          "data": {
            "image/png": "[encoded data removed]",
            "text/plain": [
              "<Figure size 720x792 with 1 Axes>"
            ]
          },
          "metadata": {}
        }
      ]
    },
    {
      "cell_type": "code",
      "metadata": {
        "colab": {
          "base_uri": "https://localhost:8080/",
          "height": 302
        },
        "id": "UvcLwC0jdXdg",
        "outputId": "87bdb288-3099-4b6b-8e3b-f404f02a2755"
      },
      "source": [
        "salesr=df['Sales Rep'].value_counts().tail()\n",
        "sb.barplot(x=salesr,y=salesr.index,data=df,palette=\"Blues_d\")"
      ],
      "execution_count": null,
      "outputs": [
        {
          "output_type": "execute_result",
          "data": {
            "text/plain": [
              "<matplotlib.axes._subplots.AxesSubplot at 0x7f10c264ee50>"
            ]
          },
          "metadata": {},
          "execution_count": 29
        },
        {
          "output_type": "display_data",
          "data": {
            "image/png": "[encoded data removed]",
            "text/plain": [
              "<Figure size 432x288 with 1 Axes>"
            ]
          },
          "metadata": {}
        }
      ]
    },
    {
      "cell_type": "code",
      "metadata": {
        "colab": {
          "base_uri": "https://localhost:8080/",
          "height": 306
        },
        "id": "gJlYPIyddi0J",
        "outputId": "7ed63375-b907-4c36-b954-d6e06de44316"
      },
      "source": [
        "salespr=df['Sales Price'].value_counts().tail()\n",
        "sb.barplot(x=salespr,y=salespr.index,data=df,palette=\"Reds_d\")"
      ],
      "execution_count": null,
      "outputs": [
        {
          "output_type": "execute_result",
          "data": {
            "text/plain": [
              "<matplotlib.axes._subplots.AxesSubplot at 0x7f10c28b2950>"
            ]
          },
          "metadata": {},
          "execution_count": 30
        },
        {
          "output_type": "display_data",
          "data": {
            "image/png": "[encoded data removed]",
            "text/plain": [
              "<Figure size 432x288 with 1 Axes>"
            ]
          },
          "metadata": {}
        }
      ]
    },
    {
      "cell_type": "markdown",
      "metadata": {
        "id": "zjp_s-KCdv26"
      },
      "source": [
        "# Analyzing Amazon-Food-Sales-Trends"
      ]
    },
    {
      "cell_type": "code",
      "metadata": {
        "colab": {
          "base_uri": "https://localhost:8080/"
        },
        "id": "ecZRuhred078",
        "outputId": "101342c0-46a5-47f8-b73b-6cb666e0c621"
      },
      "source": [
        "df['DateKey'] = pd.to_datetime(df['DateKey'])\n",
        "\n",
        "Sales_2017=int(df[(df['DateKey'] > '2017-01-01') & (df['DateKey'] <= '2018-01-01')]['Sales Amount'].sum())\n",
        "Sales_2018=int(df[(df['DateKey'] > '2018-01-01') & (df['DateKey'] <= '2018-12-31')]['Sales Amount'].sum())\n",
        "Sales_2019=int(df[(df['DateKey'] > '2019-01-01') & (df['DateKey'] <= '2019-12-31')]['Sales Amount'].sum())\n",
        "\n",
        "print(Sales_2017,Sales_2018,Sales_2019)"
      ],
      "execution_count": null,
      "outputs": [
        {
          "output_type": "stream",
          "name": "stdout",
          "text": [
            "44484000 10021315 39809585\n"
          ]
        }
      ]
    },
    {
      "cell_type": "code",
      "metadata": {
        "colab": {
          "base_uri": "https://localhost:8080/",
          "height": 502
        },
        "id": "akrB2jDIeG9e",
        "outputId": "c28b967a-d9de-44a7-da54-7371061ca9ec"
      },
      "source": [
        "year=['Sales in 2017','Sales in 2018','Sales_2019']\n",
        "yearly_sales=[Sales_2017,Sales_2018,Sales_2019]\n",
        "plt.figure(figsize=(10,8))\n",
        "plt.pie(x=yearly_sales,labels=year,autopct='%.0f%%')\n",
        "plt.title('Amazon - Yearly Sales',fontdict={'family':'DejaVu Sans','size':40})\n",
        "plt.legend()\n",
        "plt.show()"
      ],
      "execution_count": null,
      "outputs": [
        {
          "output_type": "display_data",
          "data": {
            "image/png": "[encoded data removed]",
            "text/plain": [
              "<Figure size 720x576 with 1 Axes>"
            ]
          },
          "metadata": {}
        }
      ]
    },
    {
      "cell_type": "code",
      "metadata": {
        "id": "XisZwFJEeOFo"
      },
      "source": [
        "df['DateKey'] = pd.to_datetime(df['DateKey'])\n",
        "\n",
        "\n",
        "Sales_2017_Jan=int(df[(df['DateKey'] > '2018-01-01') & (df['DateKey'] <= '2018-02-01')]['Sales Amount'].sum())\n",
        "\n",
        "Sales_2017_Feb=int(df[(df['DateKey'] > '2018-02-01') & (df['DateKey'] <= '2018-03-01')]['Sales Amount'].sum())\n",
        "\n",
        "Sales_2017_Mar=int(df[(df['DateKey'] > '2017-03-01') & (df['DateKey'] <= '2017-04-01')]['Sales Amount'].sum())\n",
        "\n",
        "Sales_2017_Apr=int(df[(df['DateKey'] > '2017-04-01') & (df['DateKey'] <= '2017-05-01')]['Sales Amount'].sum())\n",
        "\n",
        "Sales_2017_May=int(df[(df['DateKey'] > '2017-05-01') & (df['DateKey'] <= '2017-06-01')]['Sales Amount'].sum())\n",
        "\n",
        "Sales_2017_June=int(df[(df['DateKey'] > '2017-06-01') & (df['DateKey'] <= '2017-07-01')]['Sales Amount'].sum())\n",
        "\n",
        "Sales_2017_July=int(df[(df['DateKey'] > '2017-07-01') & (df['DateKey'] <= '2017-08-01')]['Sales Amount'].sum())\n",
        "\n",
        "Sales_2017_Aug=int(df[(df['DateKey'] > '2017-08-01') & (df['DateKey'] <= '2017-09-01')]['Sales Amount'].sum())\n",
        "\n",
        "Sales_2017_Sept=int(df[(df['DateKey'] > '2017-09-01') & (df['DateKey'] <= '2017-10-01')]['Sales Amount'].sum())\n",
        "\n",
        "Sales_2017_Oct=int(df[(df['DateKey'] > '2017-10-01') & (df['DateKey'] <= '2017-11-01')]['Sales Amount'].sum())\n",
        "\n",
        "Sales_2017_Nov=int(df[(df['DateKey'] > '2017-11-01') & (df['DateKey'] <= '2017-12-01')]['Sales Amount'].sum())\n",
        "\n",
        "Sales_2017_Dec=int(df[(df['DateKey'] > '2017-12-01') & (df['DateKey'] <= '2018-01-01')]['Sales Amount'].sum())\n",
        "\n",
        "monthlysales=[Sales_2017_Jan,Sales_2017_Feb,Sales_2017_Mar,Sales_2017_Apr,Sales_2017_May,Sales_2017_June,Sales_2017_July,Sales_2017_Aug,Sales_2017_Sept,Sales_2017_Oct,Sales_2017_Nov,Sales_2017_Dec]\n",
        "months=['January','Febraury','March','April','May','June','July','August','September','October','November','December']"
      ],
      "execution_count": null,
      "outputs": []
    },
    {
      "cell_type": "code",
      "metadata": {
        "colab": {
          "base_uri": "https://localhost:8080/",
          "height": 757
        },
        "id": "sEJIus0teZe4",
        "outputId": "4f52f0b1-1ec6-443c-b526-0763d36382fc"
      },
      "source": [
        "plt.figure(figsize=(12,12))\n",
        "sb.barplot(x=months,y=monthlysales,palette=\"muted\")\n",
        "plt.title('Amazon - Monthly Sales',fontdict={'family':'DejaVu Sans','size':40})\n",
        "plt.legend()\n",
        "plt.show()"
      ],
      "execution_count": null,
      "outputs": [
        {
          "output_type": "stream",
          "name": "stderr",
          "text": [
            "No handles with labels found to put in legend.\n"
          ]
        },
        {
          "output_type": "display_data",
          "data": {
            "image/png": "[encoded data removed]",
            "text/plain": [
              "<Figure size 864x864 with 1 Axes>"
            ]
          },
          "metadata": {}
        }
      ]
    },
    {
      "cell_type": "markdown",
      "metadata": {
        "id": "S8zItz04euau"
      },
      "source": [
        "**Importing,Reading,Data Cleaning - Manoj Darshan**\n",
        "\n",
        "**Exploratory Data Analysis - Raksha Srinivasan**\n",
        "\n",
        "**Analyzing Amazon Sales Trends - Sneha Priya R N**"
      ]
    }
  ]
}